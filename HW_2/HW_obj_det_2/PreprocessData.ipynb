{
 "cells": [
  {
   "cell_type": "code",
   "execution_count": 169,
   "metadata": {
    "ExecuteTime": {
     "end_time": "2020-02-12T16:19:50.792584Z",
     "start_time": "2020-02-12T16:19:50.788717Z"
    }
   },
   "outputs": [],
   "source": [
    "import pandas as pd\n",
    "import os\n",
    "import numpy as np\n",
    "import urllib.request\n",
    "from shutil import copy, rmtree\n",
    "from tqdm import tqdm_notebook"
   ]
  },
  {
   "cell_type": "code",
   "execution_count": 83,
   "metadata": {
    "ExecuteTime": {
     "end_time": "2020-02-12T15:20:17.755667Z",
     "start_time": "2020-02-12T15:20:17.752707Z"
    }
   },
   "outputs": [],
   "source": [
    "CLEAN_TRAIN_TEST_FOLDERS = True"
   ]
  },
  {
   "cell_type": "code",
   "execution_count": 104,
   "metadata": {
    "ExecuteTime": {
     "end_time": "2020-02-12T15:30:25.892612Z",
     "start_time": "2020-02-12T15:30:25.885780Z"
    }
   },
   "outputs": [],
   "source": [
    "main_folder = os.path.join('data')\n",
    "\n",
    "data_folder = os.path.join(main_folder, 'images')\n",
    "train_folder = os.path.join(main_folder, 'train') \n",
    "test_folder = os.path.join(main_folder, 'test')"
   ]
  },
  {
   "cell_type": "markdown",
   "metadata": {},
   "source": [
    "# Download Images"
   ]
  },
  {
   "cell_type": "code",
   "execution_count": 48,
   "metadata": {
    "ExecuteTime": {
     "end_time": "2020-02-12T13:55:24.890237Z",
     "start_time": "2020-02-12T13:55:01.134406Z"
    }
   },
   "outputs": [],
   "source": [
    "boxable = pd.read_csv('data/train-images-boxable.csv')\n",
    "descr = pd.read_csv('data/classes-description.csv', header=None)\n",
    "bbox_annotation = pd.read_csv('data/train-annotations-bbox.csv')"
   ]
  },
  {
   "cell_type": "code",
   "execution_count": 142,
   "metadata": {
    "ExecuteTime": {
     "end_time": "2020-02-12T16:11:38.587289Z",
     "start_time": "2020-02-12T16:11:38.578504Z"
    }
   },
   "outputs": [
    {
     "data": {
      "text/html": [
       "<div>\n",
       "<style scoped>\n",
       "    .dataframe tbody tr th:only-of-type {\n",
       "        vertical-align: middle;\n",
       "    }\n",
       "\n",
       "    .dataframe tbody tr th {\n",
       "        vertical-align: top;\n",
       "    }\n",
       "\n",
       "    .dataframe thead th {\n",
       "        text-align: right;\n",
       "    }\n",
       "</style>\n",
       "<table border=\"1\" class=\"dataframe\">\n",
       "  <thead>\n",
       "    <tr style=\"text-align: right;\">\n",
       "      <th></th>\n",
       "      <th>0</th>\n",
       "      <th>1</th>\n",
       "    </tr>\n",
       "  </thead>\n",
       "  <tbody>\n",
       "    <tr>\n",
       "      <td>0</td>\n",
       "      <td>/m/061hd_</td>\n",
       "      <td>Infant bed</td>\n",
       "    </tr>\n",
       "    <tr>\n",
       "      <td>1</td>\n",
       "      <td>/m/06m11</td>\n",
       "      <td>Rose</td>\n",
       "    </tr>\n",
       "    <tr>\n",
       "      <td>2</td>\n",
       "      <td>/m/03120</td>\n",
       "      <td>Flag</td>\n",
       "    </tr>\n",
       "    <tr>\n",
       "      <td>3</td>\n",
       "      <td>/m/01kb5b</td>\n",
       "      <td>Flashlight</td>\n",
       "    </tr>\n",
       "    <tr>\n",
       "      <td>4</td>\n",
       "      <td>/m/0120dh</td>\n",
       "      <td>Sea turtle</td>\n",
       "    </tr>\n",
       "    <tr>\n",
       "      <td>...</td>\n",
       "      <td>...</td>\n",
       "      <td>...</td>\n",
       "    </tr>\n",
       "    <tr>\n",
       "      <td>495</td>\n",
       "      <td>/m/05vtc</td>\n",
       "      <td>Potato</td>\n",
       "    </tr>\n",
       "    <tr>\n",
       "      <td>496</td>\n",
       "      <td>/m/02w3r3</td>\n",
       "      <td>Paper towel</td>\n",
       "    </tr>\n",
       "    <tr>\n",
       "      <td>497</td>\n",
       "      <td>/m/054xkw</td>\n",
       "      <td>Lifejacket</td>\n",
       "    </tr>\n",
       "    <tr>\n",
       "      <td>498</td>\n",
       "      <td>/m/01bqk0</td>\n",
       "      <td>Bicycle wheel</td>\n",
       "    </tr>\n",
       "    <tr>\n",
       "      <td>499</td>\n",
       "      <td>/m/09g1w</td>\n",
       "      <td>Toilet</td>\n",
       "    </tr>\n",
       "  </tbody>\n",
       "</table>\n",
       "<p>500 rows × 2 columns</p>\n",
       "</div>"
      ],
      "text/plain": [
       "             0              1\n",
       "0    /m/061hd_     Infant bed\n",
       "1     /m/06m11           Rose\n",
       "2     /m/03120           Flag\n",
       "3    /m/01kb5b     Flashlight\n",
       "4    /m/0120dh     Sea turtle\n",
       "..         ...            ...\n",
       "495   /m/05vtc         Potato\n",
       "496  /m/02w3r3    Paper towel\n",
       "497  /m/054xkw     Lifejacket\n",
       "498  /m/01bqk0  Bicycle wheel\n",
       "499   /m/09g1w         Toilet\n",
       "\n",
       "[500 rows x 2 columns]"
      ]
     },
     "execution_count": 142,
     "metadata": {},
     "output_type": "execute_result"
    }
   ],
   "source": [
    "descr"
   ]
  },
  {
   "cell_type": "code",
   "execution_count": 143,
   "metadata": {
    "ExecuteTime": {
     "end_time": "2020-02-12T16:11:41.734720Z",
     "start_time": "2020-02-12T16:11:41.727888Z"
    },
    "scrolled": true
   },
   "outputs": [
    {
     "data": {
      "text/plain": [
       "['/m/061hd_', '/m/06m11', '/m/03120']"
      ]
     },
     "execution_count": 143,
     "metadata": {},
     "output_type": "execute_result"
    }
   ],
   "source": [
    "classes = descr[:3][0].tolist()\n",
    "classes"
   ]
  },
  {
   "cell_type": "code",
   "execution_count": 54,
   "metadata": {
    "ExecuteTime": {
     "end_time": "2020-02-12T13:57:04.808603Z",
     "start_time": "2020-02-12T13:57:04.794002Z"
    }
   },
   "outputs": [
    {
     "data": {
      "text/html": [
       "<div>\n",
       "<style scoped>\n",
       "    .dataframe tbody tr th:only-of-type {\n",
       "        vertical-align: middle;\n",
       "    }\n",
       "\n",
       "    .dataframe tbody tr th {\n",
       "        vertical-align: top;\n",
       "    }\n",
       "\n",
       "    .dataframe thead th {\n",
       "        text-align: right;\n",
       "    }\n",
       "</style>\n",
       "<table border=\"1\" class=\"dataframe\">\n",
       "  <thead>\n",
       "    <tr style=\"text-align: right;\">\n",
       "      <th></th>\n",
       "      <th>ImageID</th>\n",
       "      <th>Source</th>\n",
       "      <th>LabelName</th>\n",
       "      <th>Confidence</th>\n",
       "      <th>XMin</th>\n",
       "      <th>XMax</th>\n",
       "      <th>YMin</th>\n",
       "      <th>YMax</th>\n",
       "      <th>IsOccluded</th>\n",
       "      <th>IsTruncated</th>\n",
       "      <th>IsGroupOf</th>\n",
       "      <th>IsDepiction</th>\n",
       "      <th>IsInside</th>\n",
       "    </tr>\n",
       "  </thead>\n",
       "  <tbody>\n",
       "    <tr>\n",
       "      <td>0</td>\n",
       "      <td>000002b66c9c498e</td>\n",
       "      <td>xclick</td>\n",
       "      <td>/m/01g317</td>\n",
       "      <td>1</td>\n",
       "      <td>0.012500</td>\n",
       "      <td>0.195312</td>\n",
       "      <td>0.148438</td>\n",
       "      <td>0.587500</td>\n",
       "      <td>0</td>\n",
       "      <td>1</td>\n",
       "      <td>0</td>\n",
       "      <td>0</td>\n",
       "      <td>0</td>\n",
       "    </tr>\n",
       "    <tr>\n",
       "      <td>1</td>\n",
       "      <td>000002b66c9c498e</td>\n",
       "      <td>xclick</td>\n",
       "      <td>/m/01g317</td>\n",
       "      <td>1</td>\n",
       "      <td>0.025000</td>\n",
       "      <td>0.276563</td>\n",
       "      <td>0.714063</td>\n",
       "      <td>0.948438</td>\n",
       "      <td>0</td>\n",
       "      <td>1</td>\n",
       "      <td>0</td>\n",
       "      <td>0</td>\n",
       "      <td>0</td>\n",
       "    </tr>\n",
       "    <tr>\n",
       "      <td>2</td>\n",
       "      <td>000002b66c9c498e</td>\n",
       "      <td>xclick</td>\n",
       "      <td>/m/01g317</td>\n",
       "      <td>1</td>\n",
       "      <td>0.151562</td>\n",
       "      <td>0.310937</td>\n",
       "      <td>0.198437</td>\n",
       "      <td>0.590625</td>\n",
       "      <td>1</td>\n",
       "      <td>0</td>\n",
       "      <td>0</td>\n",
       "      <td>0</td>\n",
       "      <td>0</td>\n",
       "    </tr>\n",
       "    <tr>\n",
       "      <td>3</td>\n",
       "      <td>000002b66c9c498e</td>\n",
       "      <td>xclick</td>\n",
       "      <td>/m/01g317</td>\n",
       "      <td>1</td>\n",
       "      <td>0.256250</td>\n",
       "      <td>0.429688</td>\n",
       "      <td>0.651563</td>\n",
       "      <td>0.925000</td>\n",
       "      <td>1</td>\n",
       "      <td>0</td>\n",
       "      <td>0</td>\n",
       "      <td>0</td>\n",
       "      <td>0</td>\n",
       "    </tr>\n",
       "    <tr>\n",
       "      <td>4</td>\n",
       "      <td>000002b66c9c498e</td>\n",
       "      <td>xclick</td>\n",
       "      <td>/m/01g317</td>\n",
       "      <td>1</td>\n",
       "      <td>0.257812</td>\n",
       "      <td>0.346875</td>\n",
       "      <td>0.235938</td>\n",
       "      <td>0.385938</td>\n",
       "      <td>1</td>\n",
       "      <td>0</td>\n",
       "      <td>0</td>\n",
       "      <td>0</td>\n",
       "      <td>0</td>\n",
       "    </tr>\n",
       "  </tbody>\n",
       "</table>\n",
       "</div>"
      ],
      "text/plain": [
       "            ImageID  Source  LabelName  Confidence      XMin      XMax  \\\n",
       "0  000002b66c9c498e  xclick  /m/01g317           1  0.012500  0.195312   \n",
       "1  000002b66c9c498e  xclick  /m/01g317           1  0.025000  0.276563   \n",
       "2  000002b66c9c498e  xclick  /m/01g317           1  0.151562  0.310937   \n",
       "3  000002b66c9c498e  xclick  /m/01g317           1  0.256250  0.429688   \n",
       "4  000002b66c9c498e  xclick  /m/01g317           1  0.257812  0.346875   \n",
       "\n",
       "       YMin      YMax  IsOccluded  IsTruncated  IsGroupOf  IsDepiction  \\\n",
       "0  0.148438  0.587500           0            1          0            0   \n",
       "1  0.714063  0.948438           0            1          0            0   \n",
       "2  0.198437  0.590625           1            0          0            0   \n",
       "3  0.651563  0.925000           1            0          0            0   \n",
       "4  0.235938  0.385938           1            0          0            0   \n",
       "\n",
       "   IsInside  \n",
       "0         0  \n",
       "1         0  \n",
       "2         0  \n",
       "3         0  \n",
       "4         0  "
      ]
     },
     "execution_count": 54,
     "metadata": {},
     "output_type": "execute_result"
    }
   ],
   "source": [
    "bbox_annotation.head()"
   ]
  },
  {
   "cell_type": "code",
   "execution_count": 64,
   "metadata": {
    "ExecuteTime": {
     "end_time": "2020-02-12T15:04:13.836451Z",
     "start_time": "2020-02-12T14:42:58.818379Z"
    }
   },
   "outputs": [
    {
     "data": {
      "application/vnd.jupyter.widget-view+json": {
       "model_id": "dab6306f82b7485a99fbae4d5e9cf5ca",
       "version_major": 2,
       "version_minor": 0
      },
      "text/plain": [
       "HBox(children=(IntProgress(value=0, description='NUMBER OF PICTURES', max=500, style=ProgressStyle(description…"
      ]
     },
     "metadata": {},
     "output_type": "display_data"
    },
    {
     "name": "stdout",
     "output_type": "stream",
     "text": [
      "\n"
     ]
    }
   ],
   "source": [
    "number_pic = 500\n",
    "clas = '/m/03120'\n",
    "\n",
    "for label in classes:\n",
    "    images_id = bbox_annotation[bbox_annotation.LabelName == label]['ImageID'].tolist()\n",
    "    imgs_len = len(images_id)\n",
    "    \n",
    "    for img_ind in tqdm_notebook(range(number_pic), desc='NUMBER OF PICTURES'):\n",
    "        img = images_id[img_ind]\n",
    "        img = img + '.jpg'\n",
    "        \n",
    "        url = boxable[boxable.image_name == img]['image_url'].iloc[0]\n",
    "        urllib.request.urlretrieve(url, os.path.join(data_folder, img))"
   ]
  },
  {
   "cell_type": "markdown",
   "metadata": {},
   "source": [
    "# Create train and test data"
   ]
  },
  {
   "cell_type": "code",
   "execution_count": 173,
   "metadata": {
    "ExecuteTime": {
     "end_time": "2020-02-12T16:21:00.738663Z",
     "start_time": "2020-02-12T16:21:00.730829Z"
    }
   },
   "outputs": [],
   "source": [
    "images = [os.path.join(data_folder, img_path) for img_path in os.listdir(data_folder)]\n",
    "np.random.shuffle(images)"
   ]
  },
  {
   "cell_type": "code",
   "execution_count": 174,
   "metadata": {
    "ExecuteTime": {
     "end_time": "2020-02-12T16:21:01.332551Z",
     "start_time": "2020-02-12T16:21:01.328646Z"
    }
   },
   "outputs": [],
   "source": [
    "border = int(len(images)*0.9)\n",
    "\n",
    "train = images[:border]\n",
    "test = images[border:]"
   ]
  },
  {
   "cell_type": "code",
   "execution_count": 175,
   "metadata": {
    "ExecuteTime": {
     "end_time": "2020-02-12T16:21:02.217551Z",
     "start_time": "2020-02-12T16:21:02.211662Z"
    }
   },
   "outputs": [
    {
     "name": "stdout",
     "output_type": "stream",
     "text": [
      "Train images size: 709 \n",
      " Test images size: 79\n"
     ]
    }
   ],
   "source": [
    "print(f'Train images size: {len(train)} \\n Test images size: {len(test)}')"
   ]
  },
  {
   "cell_type": "code",
   "execution_count": 172,
   "metadata": {
    "ExecuteTime": {
     "end_time": "2020-02-12T16:20:52.612637Z",
     "start_time": "2020-02-12T16:20:52.607787Z"
    }
   },
   "outputs": [],
   "source": [
    "if CLEAN_TRAIN_TEST_FOLDERS:\n",
    "    rmtree(train_folder)\n",
    "    rmtree(test_folder)"
   ]
  },
  {
   "cell_type": "code",
   "execution_count": 176,
   "metadata": {
    "ExecuteTime": {
     "end_time": "2020-02-12T16:21:06.939593Z",
     "start_time": "2020-02-12T16:21:04.688037Z"
    }
   },
   "outputs": [
    {
     "data": {
      "application/vnd.jupyter.widget-view+json": {
       "model_id": "aed51913ee5d4ccaba9cedc7f670058e",
       "version_major": 2,
       "version_minor": 0
      },
      "text/plain": [
       "HBox(children=(IntProgress(value=0, description='TRAIN COPY', max=709, style=ProgressStyle(description_width='…"
      ]
     },
     "metadata": {},
     "output_type": "display_data"
    },
    {
     "name": "stdout",
     "output_type": "stream",
     "text": [
      "\n"
     ]
    },
    {
     "data": {
      "application/vnd.jupyter.widget-view+json": {
       "model_id": "514e6cdfaa93407cbcf3ff13591af5ee",
       "version_major": 2,
       "version_minor": 0
      },
      "text/plain": [
       "HBox(children=(IntProgress(value=0, description='TEST COPY', max=79, style=ProgressStyle(description_width='in…"
      ]
     },
     "metadata": {},
     "output_type": "display_data"
    },
    {
     "name": "stdout",
     "output_type": "stream",
     "text": [
      "\n"
     ]
    }
   ],
   "source": [
    "if not os.path.exists(train_folder):\n",
    "    os.mkdir(train_folder)\n",
    "    \n",
    "if not os.path.exists(test_folder):\n",
    "    os.mkdir(test_folder)\n",
    "    \n",
    "len_train = len(train)\n",
    "len_test = len(test)\n",
    "for img_ind in tqdm_notebook(range(len_train), desc='TRAIN COPY'):\n",
    "    img_path = train[img_ind]\n",
    "    copy(img_path, train_folder)\n",
    "    \n",
    "for img_ind in tqdm_notebook(range(len_test), desc='TEST COPY'):\n",
    "    img_path = test[img_ind]\n",
    "    copy(img_path, test_folder)"
   ]
  },
  {
   "cell_type": "code",
   "execution_count": 177,
   "metadata": {
    "ExecuteTime": {
     "end_time": "2020-02-12T16:21:13.194686Z",
     "start_time": "2020-02-12T16:21:13.189806Z"
    }
   },
   "outputs": [],
   "source": [
    "train = [img.split('\\\\')[-1].replace('.jpg', '') for img in train]\n",
    "test = [img.split('\\\\')[-1].replace('.jpg', '') for img in test]"
   ]
  },
  {
   "cell_type": "code",
   "execution_count": 178,
   "metadata": {
    "ExecuteTime": {
     "end_time": "2020-02-12T16:21:16.964180Z",
     "start_time": "2020-02-12T16:21:15.879864Z"
    }
   },
   "outputs": [],
   "source": [
    "y_train = bbox_annotation[bbox_annotation['LabelName'].isin(classes)]\n",
    "y_test = bbox_annotation[bbox_annotation['LabelName'].isin(classes)]"
   ]
  },
  {
   "cell_type": "code",
   "execution_count": 180,
   "metadata": {
    "ExecuteTime": {
     "end_time": "2020-02-12T16:21:20.721624Z",
     "start_time": "2020-02-12T16:21:20.706156Z"
    }
   },
   "outputs": [],
   "source": [
    "y_train = y_train[y_train.ImageID.isin(train)]\n",
    "y_test = y_test[y_test.ImageID.isin(test)]"
   ]
  },
  {
   "cell_type": "code",
   "execution_count": 181,
   "metadata": {
    "ExecuteTime": {
     "end_time": "2020-02-12T16:21:20.996841Z",
     "start_time": "2020-02-12T16:21:20.989033Z"
    }
   },
   "outputs": [],
   "source": [
    "y_train = y_train.rename(columns={'ImageID': 'filename', 'LabelName': 'class', \n",
    "                        'XMin': 'xmin', 'XMax': 'xmax', 'YMin': 'ymin', 'YMax': 'ymax'})\n",
    "\n",
    "y_test = y_test.rename(columns={'ImageID': 'filename', 'LabelName': 'class', \n",
    "                                    'XMin': 'xmin', 'XMax': 'xmax', 'YMin': 'ymin', 'YMax': 'ymax'})"
   ]
  },
  {
   "cell_type": "code",
   "execution_count": 182,
   "metadata": {
    "ExecuteTime": {
     "end_time": "2020-02-12T16:21:21.288814Z",
     "start_time": "2020-02-12T16:21:21.283000Z"
    }
   },
   "outputs": [],
   "source": [
    "y_train['width'], y_train['height'] = 1024, 1024\n",
    "y_test['width'], y_test['height'] = 1024, 1024"
   ]
  },
  {
   "cell_type": "code",
   "execution_count": 183,
   "metadata": {
    "ExecuteTime": {
     "end_time": "2020-02-12T16:21:21.653854Z",
     "start_time": "2020-02-12T16:21:21.647998Z"
    }
   },
   "outputs": [],
   "source": [
    "y_train.filename = [img+'.jpg' for img in y_train.filename]\n",
    "y_test.filename = [img+'.jpg' for img in y_test.filename]"
   ]
  },
  {
   "cell_type": "code",
   "execution_count": 184,
   "metadata": {
    "ExecuteTime": {
     "end_time": "2020-02-12T16:21:22.284396Z",
     "start_time": "2020-02-12T16:21:22.259021Z"
    }
   },
   "outputs": [
    {
     "data": {
      "text/html": [
       "<div>\n",
       "<style scoped>\n",
       "    .dataframe tbody tr th:only-of-type {\n",
       "        vertical-align: middle;\n",
       "    }\n",
       "\n",
       "    .dataframe tbody tr th {\n",
       "        vertical-align: top;\n",
       "    }\n",
       "\n",
       "    .dataframe thead th {\n",
       "        text-align: right;\n",
       "    }\n",
       "</style>\n",
       "<table border=\"1\" class=\"dataframe\">\n",
       "  <thead>\n",
       "    <tr style=\"text-align: right;\">\n",
       "      <th></th>\n",
       "      <th>filename</th>\n",
       "      <th>Source</th>\n",
       "      <th>class</th>\n",
       "      <th>Confidence</th>\n",
       "      <th>xmin</th>\n",
       "      <th>xmax</th>\n",
       "      <th>ymin</th>\n",
       "      <th>ymax</th>\n",
       "      <th>IsOccluded</th>\n",
       "      <th>IsTruncated</th>\n",
       "      <th>IsGroupOf</th>\n",
       "      <th>IsDepiction</th>\n",
       "      <th>IsInside</th>\n",
       "      <th>width</th>\n",
       "      <th>height</th>\n",
       "    </tr>\n",
       "  </thead>\n",
       "  <tbody>\n",
       "    <tr>\n",
       "      <td>1896</td>\n",
       "      <td>0000f8604a4e2cfe.jpg</td>\n",
       "      <td>xclick</td>\n",
       "      <td>/m/03120</td>\n",
       "      <td>1</td>\n",
       "      <td>0.723750</td>\n",
       "      <td>0.860000</td>\n",
       "      <td>0.154145</td>\n",
       "      <td>0.838083</td>\n",
       "      <td>1</td>\n",
       "      <td>0</td>\n",
       "      <td>0</td>\n",
       "      <td>0</td>\n",
       "      <td>0</td>\n",
       "      <td>1024</td>\n",
       "      <td>1024</td>\n",
       "    </tr>\n",
       "    <tr>\n",
       "      <td>3846</td>\n",
       "      <td>00027f4e7a1c370f.jpg</td>\n",
       "      <td>xclick</td>\n",
       "      <td>/m/03120</td>\n",
       "      <td>1</td>\n",
       "      <td>0.005757</td>\n",
       "      <td>0.306743</td>\n",
       "      <td>0.431875</td>\n",
       "      <td>0.650625</td>\n",
       "      <td>1</td>\n",
       "      <td>1</td>\n",
       "      <td>0</td>\n",
       "      <td>0</td>\n",
       "      <td>0</td>\n",
       "      <td>1024</td>\n",
       "      <td>1024</td>\n",
       "    </tr>\n",
       "    <tr>\n",
       "      <td>3847</td>\n",
       "      <td>00027f4e7a1c370f.jpg</td>\n",
       "      <td>xclick</td>\n",
       "      <td>/m/03120</td>\n",
       "      <td>1</td>\n",
       "      <td>0.148026</td>\n",
       "      <td>0.999178</td>\n",
       "      <td>0.000000</td>\n",
       "      <td>0.278125</td>\n",
       "      <td>1</td>\n",
       "      <td>1</td>\n",
       "      <td>0</td>\n",
       "      <td>0</td>\n",
       "      <td>0</td>\n",
       "      <td>1024</td>\n",
       "      <td>1024</td>\n",
       "    </tr>\n",
       "    <tr>\n",
       "      <td>3848</td>\n",
       "      <td>00027f4e7a1c370f.jpg</td>\n",
       "      <td>xclick</td>\n",
       "      <td>/m/03120</td>\n",
       "      <td>1</td>\n",
       "      <td>0.904605</td>\n",
       "      <td>0.999178</td>\n",
       "      <td>0.421250</td>\n",
       "      <td>0.633125</td>\n",
       "      <td>1</td>\n",
       "      <td>1</td>\n",
       "      <td>0</td>\n",
       "      <td>0</td>\n",
       "      <td>0</td>\n",
       "      <td>1024</td>\n",
       "      <td>1024</td>\n",
       "    </tr>\n",
       "    <tr>\n",
       "      <td>4005</td>\n",
       "      <td>0002ae796e1f8eb5.jpg</td>\n",
       "      <td>xclick</td>\n",
       "      <td>/m/03120</td>\n",
       "      <td>1</td>\n",
       "      <td>0.046414</td>\n",
       "      <td>0.191983</td>\n",
       "      <td>0.532399</td>\n",
       "      <td>0.628722</td>\n",
       "      <td>1</td>\n",
       "      <td>0</td>\n",
       "      <td>0</td>\n",
       "      <td>1</td>\n",
       "      <td>0</td>\n",
       "      <td>1024</td>\n",
       "      <td>1024</td>\n",
       "    </tr>\n",
       "  </tbody>\n",
       "</table>\n",
       "</div>"
      ],
      "text/plain": [
       "                  filename  Source     class  Confidence      xmin      xmax  \\\n",
       "1896  0000f8604a4e2cfe.jpg  xclick  /m/03120           1  0.723750  0.860000   \n",
       "3846  00027f4e7a1c370f.jpg  xclick  /m/03120           1  0.005757  0.306743   \n",
       "3847  00027f4e7a1c370f.jpg  xclick  /m/03120           1  0.148026  0.999178   \n",
       "3848  00027f4e7a1c370f.jpg  xclick  /m/03120           1  0.904605  0.999178   \n",
       "4005  0002ae796e1f8eb5.jpg  xclick  /m/03120           1  0.046414  0.191983   \n",
       "\n",
       "          ymin      ymax  IsOccluded  IsTruncated  IsGroupOf  IsDepiction  \\\n",
       "1896  0.154145  0.838083           1            0          0            0   \n",
       "3846  0.431875  0.650625           1            1          0            0   \n",
       "3847  0.000000  0.278125           1            1          0            0   \n",
       "3848  0.421250  0.633125           1            1          0            0   \n",
       "4005  0.532399  0.628722           1            0          0            1   \n",
       "\n",
       "      IsInside  width  height  \n",
       "1896         0   1024    1024  \n",
       "3846         0   1024    1024  \n",
       "3847         0   1024    1024  \n",
       "3848         0   1024    1024  \n",
       "4005         0   1024    1024  "
      ]
     },
     "execution_count": 184,
     "metadata": {},
     "output_type": "execute_result"
    }
   ],
   "source": [
    "y_train.head()"
   ]
  },
  {
   "cell_type": "code",
   "execution_count": 185,
   "metadata": {
    "ExecuteTime": {
     "end_time": "2020-02-12T16:21:22.502096Z",
     "start_time": "2020-02-12T16:21:22.469603Z"
    }
   },
   "outputs": [],
   "source": [
    "y_train.to_csv(os.path.join(main_folder, 'train_labels.csv'), index=False, index_label=False)\n",
    "y_test.to_csv(os.path.join(main_folder, 'test_labels.csv'), index=False, index_label=False)"
   ]
  },
  {
   "cell_type": "code",
   "execution_count": null,
   "metadata": {},
   "outputs": [],
   "source": []
  }
 ],
 "metadata": {
  "kernelspec": {
   "display_name": "Python 3",
   "language": "python",
   "name": "python3"
  },
  "language_info": {
   "codemirror_mode": {
    "name": "ipython",
    "version": 3
   },
   "file_extension": ".py",
   "mimetype": "text/x-python",
   "name": "python",
   "nbconvert_exporter": "python",
   "pygments_lexer": "ipython3",
   "version": "3.7.3"
  },
  "toc": {
   "base_numbering": 1,
   "nav_menu": {},
   "number_sections": true,
   "sideBar": true,
   "skip_h1_title": false,
   "title_cell": "Table of Contents",
   "title_sidebar": "Contents",
   "toc_cell": false,
   "toc_position": {},
   "toc_section_display": true,
   "toc_window_display": false
  },
  "varInspector": {
   "cols": {
    "lenName": 16,
    "lenType": 16,
    "lenVar": 40
   },
   "kernels_config": {
    "python": {
     "delete_cmd_postfix": "",
     "delete_cmd_prefix": "del ",
     "library": "var_list.py",
     "varRefreshCmd": "print(var_dic_list())"
    },
    "r": {
     "delete_cmd_postfix": ") ",
     "delete_cmd_prefix": "rm(",
     "library": "var_list.r",
     "varRefreshCmd": "cat(var_dic_list()) "
    }
   },
   "types_to_exclude": [
    "module",
    "function",
    "builtin_function_or_method",
    "instance",
    "_Feature"
   ],
   "window_display": false
  }
 },
 "nbformat": 4,
 "nbformat_minor": 2
}
