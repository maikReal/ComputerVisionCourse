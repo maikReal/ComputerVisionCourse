{
 "cells": [
  {
   "cell_type": "code",
   "execution_count": 1,
   "metadata": {
    "ExecuteTime": {
     "end_time": "2020-03-04T07:28:30.693351Z",
     "start_time": "2020-03-04T07:28:30.592321Z"
    }
   },
   "outputs": [],
   "source": [
    "from scipy.spatial import distance as dist\n",
    "from imutils import perspective\n",
    "from imutils import contours\n",
    "import numpy as np\n",
    "import argparse\n",
    "import imutils\n",
    "import cv2\n",
    "import os\n",
    "import glob"
   ]
  },
  {
   "cell_type": "markdown",
   "metadata": {},
   "source": [
    "# MAKE SOME SNAPSHOTS"
   ]
  },
  {
   "cell_type": "code",
   "execution_count": 2,
   "metadata": {
    "ExecuteTime": {
     "end_time": "2020-03-04T07:28:30.876592Z",
     "start_time": "2020-03-04T07:28:30.872570Z"
    }
   },
   "outputs": [],
   "source": [
    "# if not os.path.exists('camera_snapshots'):\n",
    "#     os.mkdir('camera_snapshots')\n",
    "\n",
    "# cap = cv2.VideoCapture(0)\n",
    "\n",
    "# c = 0\n",
    "# while True:\n",
    "    \n",
    "#     _, frame = cap.read()\n",
    "    \n",
    "#     cv2.imshow('Image', frame)\n",
    "    \n",
    "#     if cv2.waitKey(33) == ord('a'):\n",
    "#         cv2.imwrite(f'camera_snapshots/sample_{c}.jpg', frame)\n",
    "#         c += 1\n",
    "    \n",
    "#     if cv2.waitKey(1) & 0xFF == ord('q'):\n",
    "#         break\n",
    "\n",
    "# cap.release()\n",
    "# cv2.destroyAllWindows()"
   ]
  },
  {
   "cell_type": "markdown",
   "metadata": {},
   "source": [
    "# CAMERA CALIBRATION"
   ]
  },
  {
   "cell_type": "code",
   "execution_count": 3,
   "metadata": {
    "ExecuteTime": {
     "end_time": "2020-03-04T07:28:39.917457Z",
     "start_time": "2020-03-04T07:28:31.904618Z"
    }
   },
   "outputs": [],
   "source": [
    "import numpy as np\n",
    "import cv2\n",
    "import glob\n",
    "\n",
    "# termination criteria\n",
    "criteria = (cv2.TERM_CRITERIA_EPS + cv2.TERM_CRITERIA_MAX_ITER, 30, 0.001)\n",
    "\n",
    "# prepare object points, like (0,0,0), (1,0,0), (2,0,0) ....,(6,5,0)\n",
    "objp = np.zeros((7*6,3), np.float32)\n",
    "objp[:,:2] = np.mgrid[0:7,0:6].T.reshape(-1,2)\n",
    "objp = objp * 2 \n",
    "\n",
    "# Arrays to store object points and image points from all the images.\n",
    "objpoints = [] # 3d point in real world space\n",
    "imgpoints = [] # 2d points in image plane.\n",
    "\n",
    "images = glob.glob('camera_snapshots/*.jpg')\n",
    "\n",
    "for fname in images:\n",
    "    img = cv2.imread(fname)\n",
    "    gray = cv2.cvtColor(img,cv2.COLOR_BGR2GRAY)\n",
    "\n",
    "    # Find the chess board corners\n",
    "    ret, corners = cv2.findChessboardCorners(gray, (7,6),None)\n",
    "\n",
    "    # If found, add object points, image points (after refining them)\n",
    "    if ret == True:\n",
    "        objpoints.append(objp)\n",
    "\n",
    "        corners2 = cv2.cornerSubPix(gray,corners,(11,11),(-1,-1),criteria)\n",
    "        imgpoints.append(corners2)\n",
    "\n",
    "        # Draw and display the corners\n",
    "        img = cv2.drawChessboardCorners(img, (7,6), corners2,ret)\n",
    "        cv2.imshow('img',img)\n",
    "        cv2.waitKey(500)\n",
    "\n",
    "cv2.destroyAllWindows()"
   ]
  },
  {
   "cell_type": "code",
   "execution_count": 4,
   "metadata": {
    "ExecuteTime": {
     "end_time": "2020-03-04T07:28:41.544375Z",
     "start_time": "2020-03-04T07:28:40.820064Z"
    }
   },
   "outputs": [],
   "source": [
    "ret, mtx, distor, rvecs, tvecs = cv2.calibrateCamera(objpoints, imgpoints, gray.shape[::-1], None,  None, flags=cv2.CALIB_RATIONAL_MODEL)\n",
    "\n",
    "ret, rvecs, tvecs = cv2.solvePnP(objp, corners2, mtx, distor)\n",
    "rotMat, _ = cv2.Rodrigues(rvecs)"
   ]
  },
  {
   "cell_type": "code",
   "execution_count": 5,
   "metadata": {
    "ExecuteTime": {
     "end_time": "2020-03-04T07:28:42.498525Z",
     "start_time": "2020-03-04T07:28:42.485560Z"
    }
   },
   "outputs": [],
   "source": [
    "img = cv2.imread('camera_snapshots/sample_11.jpg')\n",
    "h,  w = img.shape[:2]\n",
    "newcameramtx, roi=cv2.getOptimalNewCameraMatrix(mtx,distor,(w,h),1,(w,h))"
   ]
  },
  {
   "cell_type": "code",
   "execution_count": 7,
   "metadata": {
    "ExecuteTime": {
     "end_time": "2020-03-04T07:24:02.069959Z",
     "start_time": "2020-03-04T07:24:02.059952Z"
    }
   },
   "outputs": [],
   "source": [
    "dst = cv2.undistort(img, newcameramtx, distor, None, newcameramtx)"
   ]
  },
  {
   "cell_type": "code",
   "execution_count": 8,
   "metadata": {
    "ExecuteTime": {
     "end_time": "2020-03-04T07:24:05.191793Z",
     "start_time": "2020-03-04T07:24:03.155325Z"
    }
   },
   "outputs": [
    {
     "data": {
      "text/plain": [
       "-1"
      ]
     },
     "execution_count": 8,
     "metadata": {},
     "output_type": "execute_result"
    }
   ],
   "source": [
    "cv2.imshow('', dst)\n",
    "\n",
    "cv2.waitKey(0)"
   ]
  },
  {
   "cell_type": "code",
   "execution_count": 6,
   "metadata": {
    "ExecuteTime": {
     "end_time": "2020-03-04T07:28:48.636181Z",
     "start_time": "2020-03-04T07:28:48.614187Z"
    }
   },
   "outputs": [],
   "source": [
    "def midpoint(ptA, ptB):\n",
    "    return ((ptA[0] + ptB[0]) * 0.5, (ptA[1] + ptB[1]) * 0.5)\n",
    "\n",
    "def find_width():\n",
    "    \n",
    "#     width_const = 2.54\n",
    "    \n",
    "    cap = cv2.VideoCapture(0)\n",
    "\n",
    "            \n",
    "    criteria = (cv2.TERM_CRITERIA_EPS + cv2.TERM_CRITERIA_MAX_ITER, 30, 0.001)\n",
    "\n",
    "#     objp = np.zeros((7*7,3), np.float32)\n",
    "#     objp[:,:2] = np.mgrid[0:7,0:7].T.reshape(-1,2)\n",
    "#     axis = np.float32([[3,0,0], [0,3,0], [0,0,-3]]).reshape(-1,3)\n",
    "\n",
    "    \n",
    "    \n",
    "    while(True):\n",
    "        \n",
    "        ret, frame = cap.read()\n",
    "\n",
    "        gray = cv2.cvtColor(frame, cv2.COLOR_BGR2GRAY)\n",
    "        gray = cv2.GaussianBlur(gray, (7,7), 0)\n",
    "\n",
    "\n",
    "        edged = cv2.Canny(gray, 50, 100)\n",
    "        edged = cv2.dilate(edged, None, iterations=1)\n",
    "        edged = cv2.erode(edged, None, iterations=1)\n",
    "        \n",
    "        cnts = cv2.findContours(edged.copy(), cv2.RETR_EXTERNAL, cv2.CHAIN_APPROX_SIMPLE)\n",
    "        cnts = imutils.grab_contours(cnts)\n",
    "        \n",
    "        cnts = cv2.findContours(edged.copy(), cv2.RETR_EXTERNAL, cv2.CHAIN_APPROX_SIMPLE)\n",
    "        cnts = imutils.grab_contours(cnts)\n",
    "        \n",
    "        \n",
    "        (cnts, _) = contours.sort_contours(cnts)\n",
    "        pixelsPerMetric = None\n",
    "\n",
    "        for c in cnts:\n",
    "\n",
    "            if cv2.contourArea(c) < 100:\n",
    "                continue\n",
    "\n",
    "            orig = frame.copy()\n",
    "            box = cv2.minAreaRect(c)\n",
    "            box = cv2.cv.BoxPoints(box) if imutils.is_cv2() else cv2.boxPoints(box)\n",
    "            box = np.array(box, dtype=\"int\")\n",
    "            box = perspective.order_points(box)\n",
    "            cv2.drawContours(orig, [box.astype(\"int\")], -1, (0, 255, 0), 2)\n",
    "\n",
    "            for (x, y) in box:\n",
    "                cv2.circle(orig, (int(x), int(y)), 5, (0, 0, 255), -1)\n",
    "\n",
    "            (tl, tr, br, bl) = box\n",
    "            (tltrX, tltrY) = midpoint(tl, tr)\n",
    "            (blbrX, blbrY) = midpoint(bl, br)\n",
    "         \n",
    "            (tlblX, tlblY) = midpoint(tl, bl)\n",
    "            (trbrX, trbrY) = midpoint(tr, br)\n",
    "\n",
    "            cv2.circle(orig, (int(tltrX), int(tltrY)), 5, (255, 0, 0), -1)\n",
    "            cv2.circle(orig, (int(blbrX), int(blbrY)), 5, (255, 0, 0), -1)\n",
    "            cv2.circle(orig, (int(tlblX), int(tlblY)), 5, (255, 0, 0), -1)\n",
    "            cv2.circle(orig, (int(trbrX), int(trbrY)), 5, (255, 0, 0), -1)\n",
    "\n",
    "            cv2.line(orig, (int(tltrX), int(tltrY)), (int(blbrX), int(blbrY)),\n",
    "                (255, 0, 255), 2)\n",
    "            cv2.line(orig, (int(tlblX), int(tlblY)), (int(trbrX), int(trbrY)),\n",
    "                (255, 0, 255), 2)\n",
    "\n",
    "\n",
    "            \n",
    "            tempMat = np.linalg.inv(rotMat) * np.linalg.inv(newcameramtx) * [tlblX,tlblY,1]\n",
    "            tempMat2 = np.linalg.inv(rotMat) * tvecs\n",
    "\n",
    "            s = 0 + tempMat2[2][0]\n",
    "            s /= tempMat[2][2]\n",
    "            \n",
    "            wcPoint_tlbl = np.linalg.inv(rotMat) * (s * np.linalg.inv(newcameramtx) * [tlblX, tlblY, 1] - tvecs)\n",
    "            \n",
    "            tempMat = np.linalg.inv(rotMat) * np.linalg.inv(newcameramtx) * [trbrX,trbrY,1]\n",
    "            tempMat2 = np.linalg.inv(rotMat) * tvecs\n",
    "\n",
    "            s = 0 + tempMat2[2][0]\n",
    "            s /= tempMat[2][2]\n",
    "            \n",
    "            wcPoint_trbr = np.linalg.inv(rotMat) * (s * np.linalg.inv(newcameramtx) * [trbrX, trbrY, 1] - tvecs)\n",
    "            \n",
    "            dB = dist.euclidean((wcPoint_tlbl[0][0], wcPoint_tlbl[1][0], wcPoint_tlbl[2][0]),\n",
    "                                (wcPoint_trbr[0][0], wcPoint_trbr[1][0], wcPoint_trbr[2][0]))\n",
    "            \n",
    "            cv2.putText(orig, \"{:.1f}sm\".format(dB),\n",
    "                (int(trbrX + 10), int(trbrY)), cv2.FONT_HERSHEY_SIMPLEX,\n",
    "                0.65, (255, 255, 255), 2)\n",
    "            \n",
    "            cv2.imshow(\"Image\", orig)\n",
    "            cv2.waitKey(0)\n",
    "        "
   ]
  },
  {
   "cell_type": "code",
   "execution_count": null,
   "metadata": {
    "ExecuteTime": {
     "start_time": "2020-03-04T07:28:02.595Z"
    }
   },
   "outputs": [],
   "source": [
    "find_width()"
   ]
  }
 ],
 "metadata": {
  "kernelspec": {
   "display_name": "Python 3",
   "language": "python",
   "name": "python3"
  },
  "language_info": {
   "codemirror_mode": {
    "name": "ipython",
    "version": 3
   },
   "file_extension": ".py",
   "mimetype": "text/x-python",
   "name": "python",
   "nbconvert_exporter": "python",
   "pygments_lexer": "ipython3",
   "version": "3.7.3"
  },
  "toc": {
   "base_numbering": 1,
   "nav_menu": {},
   "number_sections": true,
   "sideBar": true,
   "skip_h1_title": false,
   "title_cell": "Table of Contents",
   "title_sidebar": "Contents",
   "toc_cell": false,
   "toc_position": {},
   "toc_section_display": true,
   "toc_window_display": false
  },
  "varInspector": {
   "cols": {
    "lenName": 16,
    "lenType": 16,
    "lenVar": 40
   },
   "kernels_config": {
    "python": {
     "delete_cmd_postfix": "",
     "delete_cmd_prefix": "del ",
     "library": "var_list.py",
     "varRefreshCmd": "print(var_dic_list())"
    },
    "r": {
     "delete_cmd_postfix": ") ",
     "delete_cmd_prefix": "rm(",
     "library": "var_list.r",
     "varRefreshCmd": "cat(var_dic_list()) "
    }
   },
   "types_to_exclude": [
    "module",
    "function",
    "builtin_function_or_method",
    "instance",
    "_Feature"
   ],
   "window_display": false
  }
 },
 "nbformat": 4,
 "nbformat_minor": 2
}
