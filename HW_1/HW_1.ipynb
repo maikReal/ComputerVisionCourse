{
 "cells": [
  {
   "cell_type": "code",
   "execution_count": 1,
   "metadata": {
    "ExecuteTime": {
     "end_time": "2020-02-10T12:30:24.812322Z",
     "start_time": "2020-02-10T12:30:24.550910Z"
    }
   },
   "outputs": [],
   "source": [
    "import cv2 \n",
    "import numpy\n",
    "import matplotlib.pyplot as plt\n",
    "import scipy.ndimage"
   ]
  },
  {
   "cell_type": "code",
   "execution_count": 2,
   "metadata": {
    "ExecuteTime": {
     "end_time": "2020-02-10T12:30:24.982882Z",
     "start_time": "2020-02-10T12:30:24.943964Z"
    }
   },
   "outputs": [],
   "source": [
    "orig_gray = cv2.imread('GRAY.JPG')\n",
    "orig_RGB_quarter = cv2.imread('RGB_quater.JPG')\n",
    "orig_RGB_half = cv2.imread('RGB_half.JPG')"
   ]
  },
  {
   "cell_type": "markdown",
   "metadata": {},
   "source": [
    "# Pan Sharpen Algorithm"
   ]
  },
  {
   "cell_type": "code",
   "execution_count": 17,
   "metadata": {
    "ExecuteTime": {
     "end_time": "2020-02-10T12:39:45.161717Z",
     "start_time": "2020-02-10T12:39:45.148720Z"
    }
   },
   "outputs": [],
   "source": [
    "def pan_sharpen(gray_img, color_img, unique_num):\n",
    "    \n",
    "    height_gray, width_gray, ch_gray = gray_img.shape \n",
    "    height_quarter, width_quarter, ch_quarter = color_img.shape \n",
    "    \n",
    "    # up sample low resolution image\n",
    "    up_sampled_img = scipy.ndimage.zoom(color_img, (height_gray/height_quarter, width_gray/width_quarter, 1))\n",
    "    \n",
    "    cv2.imwrite(f'up_sampled_colored_img_{unique_num}.jpg', up_sampled_img)\n",
    "    \n",
    "    # image aligning \n",
    "    orb_detector = cv2.ORB_create(5000)\n",
    "    \n",
    "    kp1, d1 = orb_detector.detectAndCompute(gray_img, None)\n",
    "    kp2, d2 = orb_detector.detectAndCompute(up_sampled_img, None)\n",
    "    \n",
    "    matcher = cv2.BFMatcher(cv2.DESCRIPTOR_MATCHER_BRUTEFORCE_HAMMING)\n",
    "    \n",
    "    matches = matcher.match(d1, d2, None)\n",
    "    \n",
    "    matches.sort(key = lambda x: x.distance, reverse=False)\n",
    "    \n",
    "    matches = matches[:int(len(matches)*0.05)] \n",
    "    no_of_matches = len(matches)\n",
    "    \n",
    "    p1 = np.zeros((no_of_matches, 2), dtype=np.float32) \n",
    "    p2 = np.zeros((no_of_matches, 2), dtype=np.float32) \n",
    "\n",
    "    for i in range(len(matches)): \n",
    "        p1[i, :] = kp1[matches[i].queryIdx].pt \n",
    "        p2[i, :] = kp2[matches[i].trainIdx].pt\n",
    "        \n",
    "    # find homography\n",
    "    homography, mask = cv2.findHomography(p1, p2, cv2.RANSAC) \n",
    "    \n",
    "    height, width, channels = gray_img.shape\n",
    "    inversed_homography = np.linalg.inv(homography)\n",
    "\n",
    "    transformed_img = cv2.warpPerspective(up_sampled_img, \n",
    "                        inversed_homography, (width, height))\n",
    "    \n",
    "    cv2.imwrite(f'aligned_upsampling_image_{unique_num}.jpg', transformed_img)\n",
    "    \n",
    "\n",
    "    # convert to LUV color space\n",
    "    transformed_img_LUV = cv2.cvtColor(transformed_img, cv2.COLOR_BGR2LUV)\n",
    "    gray_LUV = cv2.cvtColor(gray_img, cv2.COLOR_BGR2LUV)\n",
    "    \n",
    "    gray_LUV[:, :, 1] = transformed_img_LUV[:, :, 1]\n",
    "    gray_LUV[:, :, 2] = transformed_img_LUV[:, :, 2]\n",
    "    \n",
    "    # convert from LUV to BGR\n",
    "    output = cv2.cvtColor(gray_LUV, cv2.COLOR_LUV2BGR)\n",
    "    \n",
    "    cv2.imwrite(f'pan_sharped_image_{unique_num}.jpg', output)\n",
    "    \n",
    "    cv2.imshow('Original Image', gray_img)\n",
    "    cv2.imshow('Pan Sharped Image', output)\n",
    "\n",
    "    cv2.waitKey(0)\n",
    "    cv2.destroyAllWindows()"
   ]
  },
  {
   "cell_type": "code",
   "execution_count": 18,
   "metadata": {
    "ExecuteTime": {
     "end_time": "2020-02-10T12:40:14.480348Z",
     "start_time": "2020-02-10T12:39:48.339864Z"
    }
   },
   "outputs": [],
   "source": [
    "unique_num = 1\n",
    "\n",
    "pan_sharpen(orig_gray, orig_RGB_half, unique_num-1)"
   ]
  },
  {
   "cell_type": "code",
   "execution_count": null,
   "metadata": {},
   "outputs": [],
   "source": []
  }
 ],
 "metadata": {
  "kernelspec": {
   "display_name": "Python 3",
   "language": "python",
   "name": "python3"
  },
  "language_info": {
   "codemirror_mode": {
    "name": "ipython",
    "version": 3
   },
   "file_extension": ".py",
   "mimetype": "text/x-python",
   "name": "python",
   "nbconvert_exporter": "python",
   "pygments_lexer": "ipython3",
   "version": "3.7.3"
  },
  "toc": {
   "base_numbering": 1,
   "nav_menu": {},
   "number_sections": true,
   "sideBar": true,
   "skip_h1_title": false,
   "title_cell": "Table of Contents",
   "title_sidebar": "Contents",
   "toc_cell": false,
   "toc_position": {},
   "toc_section_display": true,
   "toc_window_display": false
  },
  "varInspector": {
   "cols": {
    "lenName": 16,
    "lenType": 16,
    "lenVar": 40
   },
   "kernels_config": {
    "python": {
     "delete_cmd_postfix": "",
     "delete_cmd_prefix": "del ",
     "library": "var_list.py",
     "varRefreshCmd": "print(var_dic_list())"
    },
    "r": {
     "delete_cmd_postfix": ") ",
     "delete_cmd_prefix": "rm(",
     "library": "var_list.r",
     "varRefreshCmd": "cat(var_dic_list()) "
    }
   },
   "types_to_exclude": [
    "module",
    "function",
    "builtin_function_or_method",
    "instance",
    "_Feature"
   ],
   "window_display": false
  }
 },
 "nbformat": 4,
 "nbformat_minor": 2
}
